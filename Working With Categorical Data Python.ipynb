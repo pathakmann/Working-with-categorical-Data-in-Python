{
 "cells": [
  {
   "cell_type": "markdown",
   "metadata": {},
   "source": [
    "### 1. Introduction to Categorical Variables"
   ]
  },
  {
   "cell_type": "code",
   "execution_count": 1,
   "metadata": {},
   "outputs": [
    {
     "name": "stderr",
     "output_type": "stream",
     "text": [
      "C:\\Users\\manishpathak\\AppData\\Local\\Continuum\\anaconda3\\lib\\site-packages\\statsmodels\\tools\\_testing.py:19: FutureWarning: pandas.util.testing is deprecated. Use the functions in the public API at pandas.testing instead.\n",
      "  import pandas.util.testing as tm\n"
     ]
    }
   ],
   "source": [
    "import pandas as pd\n",
    "import numpy as np\n",
    "import copy\n",
    "import seaborn as sns\n",
    "sns.set(color_codes=True) #makes the background of plots nicer! Not used in this notebook yet\n",
    "import matplotlib.pyplot as plt\n",
    "%matplotlib inline"
   ]
  },
  {
   "cell_type": "markdown",
   "metadata": {},
   "source": [
    "Categorical vs Ordinal Data\n",
    "\n",
    "- Categorical Data: Data that fall in unordered groups. Eg: Male,Female\n",
    "- Ordinal Data : Data that have inherent order. Eg: Low,Medium,High\n",
    "\n",
    "Generally of object/category/string dtype, sometimes can be others as well. The number of levels in categorical data is usually called its cardinality.\n",
    "\n",
    "Can know the dtype by invoking `.info()` and `dtype`\n",
    "\n",
    "Can change the type of column using `astype()`\n",
    "\n",
    "Let's do some exercises on Kaggle's multiple choice question dataset\n",
    "\n",
    "#### Exercise 1.1"
   ]
  },
  {
   "cell_type": "code",
   "execution_count": 4,
   "metadata": {},
   "outputs": [
    {
     "name": "stderr",
     "output_type": "stream",
     "text": [
      "C:\\Users\\manishpathak\\AppData\\Local\\Continuum\\anaconda3\\lib\\site-packages\\IPython\\core\\interactiveshell.py:3058: DtypeWarning: Columns (15) have mixed types.Specify dtype option on import or set low_memory=False.\n",
      "  interactivity=interactivity, compiler=compiler, result=result)\n"
     ]
    }
   ],
   "source": [
    "multi_choice_df = pd.read_csv('D:/Books and Resources/Courses/Categorical Data TidyVerse/kaggle_multiple_choice.csv')"
   ]
  },
  {
   "cell_type": "code",
   "execution_count": 6,
   "metadata": {},
   "outputs": [
    {
     "name": "stdout",
     "output_type": "stream",
     "text": [
      "<class 'pandas.core.frame.DataFrame'>\n",
      "RangeIndex: 16716 entries, 0 to 16715\n",
      "Data columns (total 47 columns):\n",
      " #   Column                                       Non-Null Count  Dtype  \n",
      "---  ------                                       --------------  -----  \n",
      " 0   LearningPlatformUsefulnessArxiv              2391 non-null   object \n",
      " 1   LearningPlatformUsefulnessBlogs              4765 non-null   object \n",
      " 2   LearningPlatformUsefulnessCollege            3359 non-null   object \n",
      " 3   LearningPlatformUsefulnessCompany            981 non-null    object \n",
      " 4   LearningPlatformUsefulnessConferences        2182 non-null   object \n",
      " 5   LearningPlatformUsefulnessFriends            1581 non-null   object \n",
      " 6   LearningPlatformUsefulnessKaggle             6583 non-null   object \n",
      " 7   LearningPlatformUsefulnessNewsletters        1089 non-null   object \n",
      " 8   LearningPlatformUsefulnessCommunities        1142 non-null   object \n",
      " 9   LearningPlatformUsefulnessDocumentation      2321 non-null   object \n",
      " 10  LearningPlatformUsefulnessCourses            5992 non-null   object \n",
      " 11  LearningPlatformUsefulnessProjects           4794 non-null   object \n",
      " 12  LearningPlatformUsefulnessPodcasts           1214 non-null   object \n",
      " 13  LearningPlatformUsefulnessSO                 5640 non-null   object \n",
      " 14  LearningPlatformUsefulnessTextbook           4181 non-null   object \n",
      " 15  LearningPlatformUsefulnessTradeBook          333 non-null    object \n",
      " 16  LearningPlatformUsefulnessTutoring           1426 non-null   object \n",
      " 17  LearningPlatformUsefulnessYouTube            5229 non-null   object \n",
      " 18  CurrentJobTitleSelect                        11830 non-null  object \n",
      " 19  MLMethodNextYearSelect                       10833 non-null  object \n",
      " 20  WorkChallengeFrequencyPolitics               2680 non-null   object \n",
      " 21  WorkChallengeFrequencyUnusedResults          1744 non-null   object \n",
      " 22  WorkChallengeFrequencyUnusefulInstrumenting  639 non-null    object \n",
      " 23  WorkChallengeFrequencyDeployment             847 non-null    object \n",
      " 24  WorkChallengeFrequencyDirtyData              3551 non-null   object \n",
      " 25  WorkChallengeFrequencyExplaining             1585 non-null   object \n",
      " 26  WorkChallengeFrequencyPass                   424 non-null    object \n",
      " 27  WorkChallengeFrequencyIntegration            972 non-null    object \n",
      " 28  WorkChallengeFrequencyTalent                 2996 non-null   object \n",
      " 29  WorkChallengeFrequencyDataFunds              952 non-null    object \n",
      " 30  WorkChallengeFrequencyDomainExpertise        1408 non-null   object \n",
      " 31  WorkChallengeFrequencyML                     765 non-null    object \n",
      " 32  WorkChallengeFrequencyTools                  1179 non-null   object \n",
      " 33  WorkChallengeFrequencyExpectations           1134 non-null   object \n",
      " 34  WorkChallengeFrequencyITCoordination         1169 non-null   object \n",
      " 35  WorkChallengeFrequencyHiringFunds            1287 non-null   object \n",
      " 36  WorkChallengeFrequencyPrivacy                1422 non-null   object \n",
      " 37  WorkChallengeFrequencyScaling                833 non-null    object \n",
      " 38  WorkChallengeFrequencyEnvironments           1253 non-null   object \n",
      " 39  WorkChallengeFrequencyClarity                2179 non-null   object \n",
      " 40  WorkChallengeFrequencyDataAccess             2190 non-null   object \n",
      " 41  WorkChallengeFrequencyOtherSelect            277 non-null    object \n",
      " 42  WorkInternalVsExternalTools                  6757 non-null   object \n",
      " 43  FormalEducation                              15015 non-null  object \n",
      " 44  Age                                          16385 non-null  float64\n",
      " 45  DataScienceIdentitySelect                    12671 non-null  object \n",
      " 46  JobSatisfaction                              6677 non-null   object \n",
      "dtypes: float64(1), object(46)\n",
      "memory usage: 6.0+ MB\n"
     ]
    }
   ],
   "source": [
    "# Print out the info on the dataset\n",
    "multi_choice_df.info()"
   ]
  },
  {
   "cell_type": "code",
   "execution_count": 7,
   "metadata": {},
   "outputs": [
    {
     "data": {
      "text/html": [
       "<div>\n",
       "<style scoped>\n",
       "    .dataframe tbody tr th:only-of-type {\n",
       "        vertical-align: middle;\n",
       "    }\n",
       "\n",
       "    .dataframe tbody tr th {\n",
       "        vertical-align: top;\n",
       "    }\n",
       "\n",
       "    .dataframe thead th {\n",
       "        text-align: right;\n",
       "    }\n",
       "</style>\n",
       "<table border=\"1\" class=\"dataframe\">\n",
       "  <thead>\n",
       "    <tr style=\"text-align: right;\">\n",
       "      <th></th>\n",
       "      <th>LearningPlatformUsefulnessArxiv</th>\n",
       "      <th>LearningPlatformUsefulnessBlogs</th>\n",
       "      <th>LearningPlatformUsefulnessCollege</th>\n",
       "      <th>LearningPlatformUsefulnessCompany</th>\n",
       "      <th>LearningPlatformUsefulnessConferences</th>\n",
       "      <th>LearningPlatformUsefulnessFriends</th>\n",
       "      <th>LearningPlatformUsefulnessKaggle</th>\n",
       "      <th>LearningPlatformUsefulnessNewsletters</th>\n",
       "      <th>LearningPlatformUsefulnessCommunities</th>\n",
       "      <th>LearningPlatformUsefulnessDocumentation</th>\n",
       "      <th>...</th>\n",
       "      <th>WorkChallengeFrequencyScaling</th>\n",
       "      <th>WorkChallengeFrequencyEnvironments</th>\n",
       "      <th>WorkChallengeFrequencyClarity</th>\n",
       "      <th>WorkChallengeFrequencyDataAccess</th>\n",
       "      <th>WorkChallengeFrequencyOtherSelect</th>\n",
       "      <th>WorkInternalVsExternalTools</th>\n",
       "      <th>FormalEducation</th>\n",
       "      <th>Age</th>\n",
       "      <th>DataScienceIdentitySelect</th>\n",
       "      <th>JobSatisfaction</th>\n",
       "    </tr>\n",
       "  </thead>\n",
       "  <tbody>\n",
       "    <tr>\n",
       "      <th>0</th>\n",
       "      <td>NaN</td>\n",
       "      <td>NaN</td>\n",
       "      <td>NaN</td>\n",
       "      <td>NaN</td>\n",
       "      <td>Very useful</td>\n",
       "      <td>NaN</td>\n",
       "      <td>NaN</td>\n",
       "      <td>NaN</td>\n",
       "      <td>NaN</td>\n",
       "      <td>NaN</td>\n",
       "      <td>...</td>\n",
       "      <td>Most of the time</td>\n",
       "      <td>NaN</td>\n",
       "      <td>NaN</td>\n",
       "      <td>NaN</td>\n",
       "      <td>NaN</td>\n",
       "      <td>Do not know</td>\n",
       "      <td>Bachelor's degree</td>\n",
       "      <td>NaN</td>\n",
       "      <td>Yes</td>\n",
       "      <td>5</td>\n",
       "    </tr>\n",
       "    <tr>\n",
       "      <th>1</th>\n",
       "      <td>NaN</td>\n",
       "      <td>NaN</td>\n",
       "      <td>NaN</td>\n",
       "      <td>NaN</td>\n",
       "      <td>NaN</td>\n",
       "      <td>NaN</td>\n",
       "      <td>Somewhat useful</td>\n",
       "      <td>NaN</td>\n",
       "      <td>NaN</td>\n",
       "      <td>NaN</td>\n",
       "      <td>...</td>\n",
       "      <td>NaN</td>\n",
       "      <td>NaN</td>\n",
       "      <td>NaN</td>\n",
       "      <td>NaN</td>\n",
       "      <td>NaN</td>\n",
       "      <td>NaN</td>\n",
       "      <td>Master's degree</td>\n",
       "      <td>30.0</td>\n",
       "      <td>Yes</td>\n",
       "      <td>NaN</td>\n",
       "    </tr>\n",
       "    <tr>\n",
       "      <th>2</th>\n",
       "      <td>Very useful</td>\n",
       "      <td>NaN</td>\n",
       "      <td>Somewhat useful</td>\n",
       "      <td>NaN</td>\n",
       "      <td>NaN</td>\n",
       "      <td>NaN</td>\n",
       "      <td>Somewhat useful</td>\n",
       "      <td>NaN</td>\n",
       "      <td>NaN</td>\n",
       "      <td>NaN</td>\n",
       "      <td>...</td>\n",
       "      <td>NaN</td>\n",
       "      <td>NaN</td>\n",
       "      <td>NaN</td>\n",
       "      <td>NaN</td>\n",
       "      <td>NaN</td>\n",
       "      <td>NaN</td>\n",
       "      <td>Master's degree</td>\n",
       "      <td>28.0</td>\n",
       "      <td>Yes</td>\n",
       "      <td>NaN</td>\n",
       "    </tr>\n",
       "    <tr>\n",
       "      <th>3</th>\n",
       "      <td>NaN</td>\n",
       "      <td>Very useful</td>\n",
       "      <td>Very useful</td>\n",
       "      <td>NaN</td>\n",
       "      <td>Very useful</td>\n",
       "      <td>Very useful</td>\n",
       "      <td>NaN</td>\n",
       "      <td>NaN</td>\n",
       "      <td>NaN</td>\n",
       "      <td>Very useful</td>\n",
       "      <td>...</td>\n",
       "      <td>Often</td>\n",
       "      <td>Often</td>\n",
       "      <td>Often</td>\n",
       "      <td>Often</td>\n",
       "      <td>NaN</td>\n",
       "      <td>Entirely internal</td>\n",
       "      <td>Master's degree</td>\n",
       "      <td>56.0</td>\n",
       "      <td>Yes</td>\n",
       "      <td>10 - Highly Satisfied</td>\n",
       "    </tr>\n",
       "    <tr>\n",
       "      <th>4</th>\n",
       "      <td>Very useful</td>\n",
       "      <td>NaN</td>\n",
       "      <td>NaN</td>\n",
       "      <td>NaN</td>\n",
       "      <td>Somewhat useful</td>\n",
       "      <td>NaN</td>\n",
       "      <td>Somewhat useful</td>\n",
       "      <td>NaN</td>\n",
       "      <td>NaN</td>\n",
       "      <td>NaN</td>\n",
       "      <td>...</td>\n",
       "      <td>NaN</td>\n",
       "      <td>Sometimes</td>\n",
       "      <td>NaN</td>\n",
       "      <td>NaN</td>\n",
       "      <td>NaN</td>\n",
       "      <td>Approximately half internal and half external</td>\n",
       "      <td>Doctoral degree</td>\n",
       "      <td>38.0</td>\n",
       "      <td>No</td>\n",
       "      <td>2</td>\n",
       "    </tr>\n",
       "  </tbody>\n",
       "</table>\n",
       "<p>5 rows × 47 columns</p>\n",
       "</div>"
      ],
      "text/plain": [
       "  LearningPlatformUsefulnessArxiv LearningPlatformUsefulnessBlogs  \\\n",
       "0                             NaN                             NaN   \n",
       "1                             NaN                             NaN   \n",
       "2                     Very useful                             NaN   \n",
       "3                             NaN                     Very useful   \n",
       "4                     Very useful                             NaN   \n",
       "\n",
       "  LearningPlatformUsefulnessCollege LearningPlatformUsefulnessCompany  \\\n",
       "0                               NaN                               NaN   \n",
       "1                               NaN                               NaN   \n",
       "2                   Somewhat useful                               NaN   \n",
       "3                       Very useful                               NaN   \n",
       "4                               NaN                               NaN   \n",
       "\n",
       "  LearningPlatformUsefulnessConferences LearningPlatformUsefulnessFriends  \\\n",
       "0                           Very useful                               NaN   \n",
       "1                                   NaN                               NaN   \n",
       "2                                   NaN                               NaN   \n",
       "3                           Very useful                       Very useful   \n",
       "4                       Somewhat useful                               NaN   \n",
       "\n",
       "  LearningPlatformUsefulnessKaggle LearningPlatformUsefulnessNewsletters  \\\n",
       "0                              NaN                                   NaN   \n",
       "1                  Somewhat useful                                   NaN   \n",
       "2                  Somewhat useful                                   NaN   \n",
       "3                              NaN                                   NaN   \n",
       "4                  Somewhat useful                                   NaN   \n",
       "\n",
       "  LearningPlatformUsefulnessCommunities  \\\n",
       "0                                   NaN   \n",
       "1                                   NaN   \n",
       "2                                   NaN   \n",
       "3                                   NaN   \n",
       "4                                   NaN   \n",
       "\n",
       "  LearningPlatformUsefulnessDocumentation  ... WorkChallengeFrequencyScaling  \\\n",
       "0                                     NaN  ...              Most of the time   \n",
       "1                                     NaN  ...                           NaN   \n",
       "2                                     NaN  ...                           NaN   \n",
       "3                             Very useful  ...                         Often   \n",
       "4                                     NaN  ...                           NaN   \n",
       "\n",
       "  WorkChallengeFrequencyEnvironments WorkChallengeFrequencyClarity  \\\n",
       "0                                NaN                           NaN   \n",
       "1                                NaN                           NaN   \n",
       "2                                NaN                           NaN   \n",
       "3                              Often                         Often   \n",
       "4                          Sometimes                           NaN   \n",
       "\n",
       "  WorkChallengeFrequencyDataAccess WorkChallengeFrequencyOtherSelect  \\\n",
       "0                              NaN                               NaN   \n",
       "1                              NaN                               NaN   \n",
       "2                              NaN                               NaN   \n",
       "3                            Often                               NaN   \n",
       "4                              NaN                               NaN   \n",
       "\n",
       "                     WorkInternalVsExternalTools    FormalEducation   Age  \\\n",
       "0                                    Do not know  Bachelor's degree   NaN   \n",
       "1                                            NaN    Master's degree  30.0   \n",
       "2                                            NaN    Master's degree  28.0   \n",
       "3                              Entirely internal    Master's degree  56.0   \n",
       "4  Approximately half internal and half external    Doctoral degree  38.0   \n",
       "\n",
       "  DataScienceIdentitySelect        JobSatisfaction  \n",
       "0                       Yes                      5  \n",
       "1                       Yes                    NaN  \n",
       "2                       Yes                    NaN  \n",
       "3                       Yes  10 - Highly Satisfied  \n",
       "4                        No                      2  \n",
       "\n",
       "[5 rows x 47 columns]"
      ]
     },
     "execution_count": 7,
     "metadata": {},
     "output_type": "execute_result"
    }
   ],
   "source": [
    "# Print out the head of dataset\n",
    "multi_choice_df.head()"
   ]
  },
  {
   "cell_type": "code",
   "execution_count": 13,
   "metadata": {},
   "outputs": [
    {
     "data": {
      "text/plain": [
       "True"
      ]
     },
     "execution_count": 13,
     "metadata": {},
     "output_type": "execute_result"
    }
   ],
   "source": [
    "multi_choice_df['Age'].dtype == 'float64'"
   ]
  },
  {
   "cell_type": "markdown",
   "metadata": {},
   "source": [
    "Good work! While you can also use `dtype` to check the type of the column, you can also contruct booleans to check whether type of the column is as per your expectations."
   ]
  },
  {
   "cell_type": "markdown",
   "metadata": {},
   "source": [
    "#### Exercise 1.2\n",
    "##### Qualitative variables in theory\n",
    "While pandas' `.info()` can tell us how columns are currently stored, we also need a conceptual understanding of how things \"should\" be stored. For example, what if you had a column that represents the number of children someone has, such as, 1, 3, or 5, but one entry is \"two\"? The whole column will be a object dtype (string) and you'll need to change it to a numeric variable."
   ]
  },
  {
   "cell_type": "markdown",
   "metadata": {},
   "source": [
    "#### Exercise 1.3\n",
    "\n",
    "Convert dtype of multiple columns together"
   ]
  },
  {
   "cell_type": "code",
   "execution_count": 15,
   "metadata": {},
   "outputs": [
    {
     "name": "stdout",
     "output_type": "stream",
     "text": [
      "LearningPlatformUsefulnessArxiv                  object\n",
      "LearningPlatformUsefulnessBlogs                  object\n",
      "LearningPlatformUsefulnessCollege              category\n",
      "LearningPlatformUsefulnessCompany                object\n",
      "LearningPlatformUsefulnessConferences            object\n",
      "LearningPlatformUsefulnessFriends                object\n",
      "LearningPlatformUsefulnessKaggle               category\n",
      "LearningPlatformUsefulnessNewsletters            object\n",
      "LearningPlatformUsefulnessCommunities            object\n",
      "LearningPlatformUsefulnessDocumentation          object\n",
      "LearningPlatformUsefulnessCourses                object\n",
      "LearningPlatformUsefulnessProjects               object\n",
      "LearningPlatformUsefulnessPodcasts               object\n",
      "LearningPlatformUsefulnessSO                     object\n",
      "LearningPlatformUsefulnessTextbook               object\n",
      "LearningPlatformUsefulnessTradeBook              object\n",
      "LearningPlatformUsefulnessTutoring               object\n",
      "LearningPlatformUsefulnessYouTube                object\n",
      "CurrentJobTitleSelect                            object\n",
      "MLMethodNextYearSelect                           object\n",
      "WorkChallengeFrequencyPolitics                   object\n",
      "WorkChallengeFrequencyUnusedResults              object\n",
      "WorkChallengeFrequencyUnusefulInstrumenting      object\n",
      "WorkChallengeFrequencyDeployment                 object\n",
      "WorkChallengeFrequencyDirtyData                  object\n",
      "WorkChallengeFrequencyExplaining                 object\n",
      "WorkChallengeFrequencyPass                       object\n",
      "WorkChallengeFrequencyIntegration                object\n",
      "WorkChallengeFrequencyTalent                     object\n",
      "WorkChallengeFrequencyDataFunds                  object\n",
      "WorkChallengeFrequencyDomainExpertise            object\n",
      "WorkChallengeFrequencyML                         object\n",
      "WorkChallengeFrequencyTools                      object\n",
      "WorkChallengeFrequencyExpectations               object\n",
      "WorkChallengeFrequencyITCoordination             object\n",
      "WorkChallengeFrequencyHiringFunds                object\n",
      "WorkChallengeFrequencyPrivacy                    object\n",
      "WorkChallengeFrequencyScaling                    object\n",
      "WorkChallengeFrequencyEnvironments               object\n",
      "WorkChallengeFrequencyClarity                    object\n",
      "WorkChallengeFrequencyDataAccess                 object\n",
      "WorkChallengeFrequencyOtherSelect                object\n",
      "WorkInternalVsExternalTools                      object\n",
      "FormalEducation                                  object\n",
      "Age                                             float64\n",
      "DataScienceIdentitySelect                        object\n",
      "JobSatisfaction                                  object\n",
      "dtype: object\n"
     ]
    }
   ],
   "source": [
    "convert_dict = {'LearningPlatformUsefulnessCollege': 'category', \n",
    "                'LearningPlatformUsefulnessKaggle': 'category'\n",
    "               } \n",
    "multi_choice_df = multi_choice_df.astype(convert_dict) \n",
    "print(multi_choice_df.dtypes) "
   ]
  },
  {
   "cell_type": "code",
   "execution_count": 17,
   "metadata": {},
   "outputs": [
    {
     "data": {
      "text/plain": [
       "[NaN, Somewhat useful, Very useful, Not Useful]\n",
       "Categories (3, object): [Somewhat useful, Very useful, Not Useful]"
      ]
     },
     "execution_count": 17,
     "metadata": {},
     "output_type": "execute_result"
    }
   ],
   "source": [
    "#Summary of categorical columns\n",
    "multi_choice_df['LearningPlatformUsefulnessKaggle'].unique()  "
   ]
  },
  {
   "cell_type": "code",
   "execution_count": 18,
   "metadata": {},
   "outputs": [
    {
     "data": {
      "text/plain": [
       "3"
      ]
     },
     "execution_count": 18,
     "metadata": {},
     "output_type": "execute_result"
    }
   ],
   "source": [
    "multi_choice_df['LearningPlatformUsefulnessKaggle'].nunique()  "
   ]
  },
  {
   "cell_type": "code",
   "execution_count": 25,
   "metadata": {},
   "outputs": [
    {
     "data": {
      "text/plain": [
       "4"
      ]
     },
     "execution_count": 25,
     "metadata": {},
     "output_type": "execute_result"
    }
   ],
   "source": [
    "#Include NaN as a level while counting\n",
    "multi_choice_df['LearningPlatformUsefulnessKaggle'].nunique(dropna=False)  "
   ]
  },
  {
   "cell_type": "code",
   "execution_count": 160,
   "metadata": {},
   "outputs": [
    {
     "data": {
      "text/plain": [
       "Very useful        0.619171\n",
       "Somewhat useful    0.372323\n",
       "Not Useful         0.008507\n",
       "Name: LearningPlatformUsefulnessKaggle, dtype: float64"
      ]
     },
     "execution_count": 160,
     "metadata": {},
     "output_type": "execute_result"
    }
   ],
   "source": [
    "# Get Frequency count percentage\n",
    "multi_choice_df['LearningPlatformUsefulnessKaggle'].value_counts(normalize=True)"
   ]
  },
  {
   "cell_type": "markdown",
   "metadata": {},
   "source": [
    "#### Exercise 1.4"
   ]
  },
  {
   "cell_type": "code",
   "execution_count": 24,
   "metadata": {},
   "outputs": [
    {
     "name": "stdout",
     "output_type": "stream",
     "text": [
      "<class 'pandas.core.frame.DataFrame'>\n",
      "RangeIndex: 16716 entries, 0 to 16715\n",
      "Data columns (total 46 columns):\n",
      " #   Column                                       Non-Null Count  Dtype   \n",
      "---  ------                                       --------------  -----   \n",
      " 0   LearningPlatformUsefulnessArxiv              2391 non-null   object  \n",
      " 1   LearningPlatformUsefulnessBlogs              4765 non-null   object  \n",
      " 2   LearningPlatformUsefulnessCollege            3359 non-null   category\n",
      " 3   LearningPlatformUsefulnessCompany            981 non-null    object  \n",
      " 4   LearningPlatformUsefulnessConferences        2182 non-null   object  \n",
      " 5   LearningPlatformUsefulnessFriends            1581 non-null   object  \n",
      " 6   LearningPlatformUsefulnessKaggle             6583 non-null   category\n",
      " 7   LearningPlatformUsefulnessNewsletters        1089 non-null   object  \n",
      " 8   LearningPlatformUsefulnessCommunities        1142 non-null   object  \n",
      " 9   LearningPlatformUsefulnessDocumentation      2321 non-null   object  \n",
      " 10  LearningPlatformUsefulnessCourses            5992 non-null   object  \n",
      " 11  LearningPlatformUsefulnessProjects           4794 non-null   object  \n",
      " 12  LearningPlatformUsefulnessPodcasts           1214 non-null   object  \n",
      " 13  LearningPlatformUsefulnessSO                 5640 non-null   object  \n",
      " 14  LearningPlatformUsefulnessTextbook           4181 non-null   object  \n",
      " 15  LearningPlatformUsefulnessTradeBook          333 non-null    object  \n",
      " 16  LearningPlatformUsefulnessTutoring           1426 non-null   object  \n",
      " 17  LearningPlatformUsefulnessYouTube            5229 non-null   object  \n",
      " 18  CurrentJobTitleSelect                        11830 non-null  object  \n",
      " 19  MLMethodNextYearSelect                       10833 non-null  object  \n",
      " 20  WorkChallengeFrequencyPolitics               2680 non-null   object  \n",
      " 21  WorkChallengeFrequencyUnusedResults          1744 non-null   object  \n",
      " 22  WorkChallengeFrequencyUnusefulInstrumenting  639 non-null    object  \n",
      " 23  WorkChallengeFrequencyDeployment             847 non-null    object  \n",
      " 24  WorkChallengeFrequencyDirtyData              3551 non-null   object  \n",
      " 25  WorkChallengeFrequencyExplaining             1585 non-null   object  \n",
      " 26  WorkChallengeFrequencyPass                   424 non-null    object  \n",
      " 27  WorkChallengeFrequencyIntegration            972 non-null    object  \n",
      " 28  WorkChallengeFrequencyTalent                 2996 non-null   object  \n",
      " 29  WorkChallengeFrequencyDataFunds              952 non-null    object  \n",
      " 30  WorkChallengeFrequencyDomainExpertise        1408 non-null   object  \n",
      " 31  WorkChallengeFrequencyML                     765 non-null    object  \n",
      " 32  WorkChallengeFrequencyTools                  1179 non-null   object  \n",
      " 33  WorkChallengeFrequencyExpectations           1134 non-null   object  \n",
      " 34  WorkChallengeFrequencyITCoordination         1169 non-null   object  \n",
      " 35  WorkChallengeFrequencyHiringFunds            1287 non-null   object  \n",
      " 36  WorkChallengeFrequencyPrivacy                1422 non-null   object  \n",
      " 37  WorkChallengeFrequencyScaling                833 non-null    object  \n",
      " 38  WorkChallengeFrequencyEnvironments           1253 non-null   object  \n",
      " 39  WorkChallengeFrequencyClarity                2179 non-null   object  \n",
      " 40  WorkChallengeFrequencyDataAccess             2190 non-null   object  \n",
      " 41  WorkChallengeFrequencyOtherSelect            277 non-null    object  \n",
      " 42  WorkInternalVsExternalTools                  6757 non-null   object  \n",
      " 43  FormalEducation                              15015 non-null  object  \n",
      " 44  DataScienceIdentitySelect                    12671 non-null  object  \n",
      " 45  JobSatisfaction                              6677 non-null   object  \n",
      "dtypes: category(2), object(44)\n",
      "memory usage: 5.6+ MB\n"
     ]
    }
   ],
   "source": [
    "# Form a dataframe with columns of dtypes category/object\n",
    "multi_choice_cat_df = multi_choice_df.select_dtypes(include=['object','category'])\n",
    "multi_choice_cat_df.info()"
   ]
  },
  {
   "cell_type": "code",
   "execution_count": 26,
   "metadata": {},
   "outputs": [
    {
     "data": {
      "text/plain": [
       "LearningPlatformUsefulnessArxiv                 3\n",
       "LearningPlatformUsefulnessBlogs                 3\n",
       "LearningPlatformUsefulnessCollege               3\n",
       "LearningPlatformUsefulnessCompany               3\n",
       "LearningPlatformUsefulnessConferences           3\n",
       "LearningPlatformUsefulnessFriends               3\n",
       "LearningPlatformUsefulnessKaggle                3\n",
       "LearningPlatformUsefulnessNewsletters           3\n",
       "LearningPlatformUsefulnessCommunities           3\n",
       "LearningPlatformUsefulnessDocumentation         3\n",
       "LearningPlatformUsefulnessCourses               3\n",
       "LearningPlatformUsefulnessProjects              3\n",
       "LearningPlatformUsefulnessPodcasts              3\n",
       "LearningPlatformUsefulnessSO                    3\n",
       "LearningPlatformUsefulnessTextbook              3\n",
       "LearningPlatformUsefulnessTradeBook             3\n",
       "LearningPlatformUsefulnessTutoring              3\n",
       "LearningPlatformUsefulnessYouTube               3\n",
       "CurrentJobTitleSelect                          16\n",
       "MLMethodNextYearSelect                         25\n",
       "WorkChallengeFrequencyPolitics                  4\n",
       "WorkChallengeFrequencyUnusedResults             4\n",
       "WorkChallengeFrequencyUnusefulInstrumenting     4\n",
       "WorkChallengeFrequencyDeployment                4\n",
       "WorkChallengeFrequencyDirtyData                 4\n",
       "WorkChallengeFrequencyExplaining                4\n",
       "WorkChallengeFrequencyPass                      4\n",
       "WorkChallengeFrequencyIntegration               4\n",
       "WorkChallengeFrequencyTalent                    4\n",
       "WorkChallengeFrequencyDataFunds                 4\n",
       "WorkChallengeFrequencyDomainExpertise           4\n",
       "WorkChallengeFrequencyML                        4\n",
       "WorkChallengeFrequencyTools                     4\n",
       "WorkChallengeFrequencyExpectations              4\n",
       "WorkChallengeFrequencyITCoordination            4\n",
       "WorkChallengeFrequencyHiringFunds               4\n",
       "WorkChallengeFrequencyPrivacy                   4\n",
       "WorkChallengeFrequencyScaling                   4\n",
       "WorkChallengeFrequencyEnvironments              4\n",
       "WorkChallengeFrequencyClarity                   4\n",
       "WorkChallengeFrequencyDataAccess                4\n",
       "WorkChallengeFrequencyOtherSelect               4\n",
       "WorkInternalVsExternalTools                     6\n",
       "FormalEducation                                 7\n",
       "DataScienceIdentitySelect                       3\n",
       "JobSatisfaction                                11\n",
       "dtype: int64"
      ]
     },
     "execution_count": 26,
     "metadata": {},
     "output_type": "execute_result"
    }
   ],
   "source": [
    "#Get num unique in multiple columns of df\n",
    "multi_choice_cat_df.nunique()"
   ]
  },
  {
   "cell_type": "markdown",
   "metadata": {},
   "source": [
    "#### Exercise 1.5"
   ]
  },
  {
   "cell_type": "code",
   "execution_count": 30,
   "metadata": {},
   "outputs": [
    {
     "data": {
      "text/plain": [
       "MLMethodNextYearSelect    25\n",
       "CurrentJobTitleSelect     16\n",
       "JobSatisfaction           11\n",
       "dtype: int64"
      ]
     },
     "execution_count": 30,
     "metadata": {},
     "output_type": "execute_result"
    }
   ],
   "source": [
    "## Select the 3 rows with the highest number of levels \n",
    "multi_choice_cat_df.nunique().sort_values(ascending=False).head(3)"
   ]
  },
  {
   "cell_type": "code",
   "execution_count": 31,
   "metadata": {},
   "outputs": [
    {
     "data": {
      "text/plain": [
       "16"
      ]
     },
     "execution_count": 31,
     "metadata": {},
     "output_type": "execute_result"
    }
   ],
   "source": [
    "## filter for where the column called CurrentJobTitleSelect\n",
    "multi_choice_cat_df.nunique()['CurrentJobTitleSelect']"
   ]
  },
  {
   "cell_type": "markdown",
   "metadata": {},
   "source": [
    "#### Exercise 1.5"
   ]
  },
  {
   "cell_type": "code",
   "execution_count": 33,
   "metadata": {},
   "outputs": [
    {
     "data": {
      "text/plain": [
       "array(['DBA/Database Engineer', nan, 'Operations Research Practitioner',\n",
       "       'Computer Scientist', 'Data Scientist',\n",
       "       'Software Developer/Software Engineer', 'Business Analyst',\n",
       "       'Engineer', 'Scientist/Researcher', 'Researcher', 'Other',\n",
       "       'Data Analyst', 'Machine Learning Engineer', 'Statistician',\n",
       "       'Predictive Modeler', 'Programmer', 'Data Miner'], dtype=object)"
      ]
     },
     "execution_count": 33,
     "metadata": {},
     "output_type": "execute_result"
    }
   ],
   "source": [
    "## PLot bar chart of CurrentJobTitleSelect\n",
    "multi_choice_cat_df['CurrentJobTitleSelect'].unique()"
   ]
  },
  {
   "cell_type": "code",
   "execution_count": 41,
   "metadata": {},
   "outputs": [
    {
     "data": {
      "image/png": "[encoded data removed]",
      "text/plain": [
       "<Figure size 432x1080 with 1 Axes>"
      ]
     },
     "metadata": {
      "needs_background": "light"
     },
     "output_type": "display_data"
    }
   ],
   "source": [
    "f, ax = plt.subplots(figsize=(6, 15)) #Define size\n",
    "ax = sns.countplot(y=\"CurrentJobTitleSelect\", data=multi_choice_cat_df)"
   ]
  },
  {
   "cell_type": "markdown",
   "metadata": {},
   "source": [
    "Very difficult to point out the nth most popular Job Title from the above plot\n",
    "\n",
    "#### Exercise 1.6"
   ]
  },
  {
   "cell_type": "code",
   "execution_count": 50,
   "metadata": {},
   "outputs": [
    {
     "data": {
      "text/plain": [
       "<matplotlib.axes._subplots.AxesSubplot at 0x129788c2c88>"
      ]
     },
     "execution_count": 50,
     "metadata": {},
     "output_type": "execute_result"
    },
    {
     "data": {
      "image/png": "[encoded data removed]",
      "text/plain": [
       "<Figure size 432x288 with 1 Axes>"
      ]
     },
     "metadata": {
      "needs_background": "light"
     },
     "output_type": "display_data"
    }
   ],
   "source": [
    "## Order by frequency - descending\n",
    "sns.countplot(y = 'CurrentJobTitleSelect',\n",
    "              data = multi_choice_cat_df,\n",
    "              order = multi_choice_cat_df['CurrentJobTitleSelect'].value_counts().index)"
   ]
  },
  {
   "cell_type": "code",
   "execution_count": 52,
   "metadata": {},
   "outputs": [
    {
     "data": {
      "text/plain": [
       "<matplotlib.axes._subplots.AxesSubplot at 0x12978af48c8>"
      ]
     },
     "execution_count": 52,
     "metadata": {},
     "output_type": "execute_result"
    },
    {
     "data": {
      "image/png": "[encoded data removed]",
      "text/plain": [
       "<Figure size 432x288 with 1 Axes>"
      ]
     },
     "metadata": {
      "needs_background": "light"
     },
     "output_type": "display_data"
    }
   ],
   "source": [
    "## Order by frequency - ascending\n",
    "sns.countplot(y = 'CurrentJobTitleSelect',\n",
    "              data = multi_choice_cat_df,\n",
    "              order = multi_choice_cat_df['CurrentJobTitleSelect'].value_counts(ascending=True).index)"
   ]
  },
  {
   "cell_type": "code",
   "execution_count": 84,
   "metadata": {},
   "outputs": [],
   "source": [
    "## Replace counts with percentages\n",
    "title_perc = (multi_choice_cat_df['CurrentJobTitleSelect']\n",
    "                     .value_counts(normalize=True)\n",
    "                     .rename('percentage')\n",
    "                     .mul(100)\n",
    "                     .rename_axis('CurrentJobTitleSelect')\n",
    "                     .reset_index())"
   ]
  },
  {
   "cell_type": "code",
   "execution_count": 85,
   "metadata": {},
   "outputs": [
    {
     "data": {
      "text/html": [
       "<div>\n",
       "<style scoped>\n",
       "    .dataframe tbody tr th:only-of-type {\n",
       "        vertical-align: middle;\n",
       "    }\n",
       "\n",
       "    .dataframe tbody tr th {\n",
       "        vertical-align: top;\n",
       "    }\n",
       "\n",
       "    .dataframe thead th {\n",
       "        text-align: right;\n",
       "    }\n",
       "</style>\n",
       "<table border=\"1\" class=\"dataframe\">\n",
       "  <thead>\n",
       "    <tr style=\"text-align: right;\">\n",
       "      <th></th>\n",
       "      <th>CurrentJobTitleSelect</th>\n",
       "      <th>percentage</th>\n",
       "    </tr>\n",
       "  </thead>\n",
       "  <tbody>\n",
       "    <tr>\n",
       "      <th>0</th>\n",
       "      <td>Data Scientist</td>\n",
       "      <td>20.566357</td>\n",
       "    </tr>\n",
       "    <tr>\n",
       "      <th>1</th>\n",
       "      <td>Software Developer/Software Engineer</td>\n",
       "      <td>14.868977</td>\n",
       "    </tr>\n",
       "    <tr>\n",
       "      <th>2</th>\n",
       "      <td>Other</td>\n",
       "      <td>10.422654</td>\n",
       "    </tr>\n",
       "    <tr>\n",
       "      <th>3</th>\n",
       "      <td>Data Analyst</td>\n",
       "      <td>10.253593</td>\n",
       "    </tr>\n",
       "    <tr>\n",
       "      <th>4</th>\n",
       "      <td>Scientist/Researcher</td>\n",
       "      <td>8.267117</td>\n",
       "    </tr>\n",
       "  </tbody>\n",
       "</table>\n",
       "</div>"
      ],
      "text/plain": [
       "                  CurrentJobTitleSelect  percentage\n",
       "0                        Data Scientist   20.566357\n",
       "1  Software Developer/Software Engineer   14.868977\n",
       "2                                 Other   10.422654\n",
       "3                          Data Analyst   10.253593\n",
       "4                  Scientist/Researcher    8.267117"
      ]
     },
     "execution_count": 85,
     "metadata": {},
     "output_type": "execute_result"
    }
   ],
   "source": [
    "title_perc.head()"
   ]
  },
  {
   "cell_type": "code",
   "execution_count": 87,
   "metadata": {},
   "outputs": [
    {
     "data": {
      "text/plain": [
       "<matplotlib.axes._subplots.AxesSubplot at 0x1297ad1cf08>"
      ]
     },
     "execution_count": 87,
     "metadata": {},
     "output_type": "execute_result"
    },
    {
     "data": {
      "image/png": "[encoded data removed]",
      "text/plain": [
       "<Figure size 432x288 with 1 Axes>"
      ]
     },
     "metadata": {
      "needs_background": "light"
     },
     "output_type": "display_data"
    }
   ],
   "source": [
    "sns.barplot(y=\"CurrentJobTitleSelect\", x=\"percentage\", data=title_perc)"
   ]
  },
  {
   "cell_type": "markdown",
   "metadata": {},
   "source": [
    "#### Exercise 1.7"
   ]
  },
  {
   "cell_type": "markdown",
   "metadata": {},
   "source": [
    "### Ordering one variable by another\n",
    "\n",
    "Analyze the mean age by the Job titles."
   ]
  },
  {
   "cell_type": "code",
   "execution_count": 100,
   "metadata": {},
   "outputs": [],
   "source": [
    "## Filter for rows where Age and CurrentJobTitleSelect are both not NA.\n",
    "filter_df = multi_choice_df[(multi_choice_df['CurrentJobTitleSelect'].notnull()) & (multi_choice_df['Age'].notnull())]\n",
    "\n",
    "## Group the dataset by CurrentJobTitleSelect. Create a new variable mean_age, that is the mean age for each Job Title.\n",
    "title_age_df = filter_df.groupby('CurrentJobTitleSelect')['Age'].mean().sort_values().rename_axis('CurrentJobTitleSelect').reset_index()\n"
   ]
  },
  {
   "cell_type": "code",
   "execution_count": 101,
   "metadata": {},
   "outputs": [
    {
     "data": {
      "text/html": [
       "<div>\n",
       "<style scoped>\n",
       "    .dataframe tbody tr th:only-of-type {\n",
       "        vertical-align: middle;\n",
       "    }\n",
       "\n",
       "    .dataframe tbody tr th {\n",
       "        vertical-align: top;\n",
       "    }\n",
       "\n",
       "    .dataframe thead th {\n",
       "        text-align: right;\n",
       "    }\n",
       "</style>\n",
       "<table border=\"1\" class=\"dataframe\">\n",
       "  <thead>\n",
       "    <tr style=\"text-align: right;\">\n",
       "      <th></th>\n",
       "      <th>CurrentJobTitleSelect</th>\n",
       "      <th>Age</th>\n",
       "    </tr>\n",
       "  </thead>\n",
       "  <tbody>\n",
       "    <tr>\n",
       "      <th>0</th>\n",
       "      <td>Machine Learning Engineer</td>\n",
       "      <td>31.130933</td>\n",
       "    </tr>\n",
       "    <tr>\n",
       "      <th>1</th>\n",
       "      <td>Data Analyst</td>\n",
       "      <td>31.555742</td>\n",
       "    </tr>\n",
       "    <tr>\n",
       "      <th>2</th>\n",
       "      <td>Programmer</td>\n",
       "      <td>31.735099</td>\n",
       "    </tr>\n",
       "    <tr>\n",
       "      <th>3</th>\n",
       "      <td>Software Developer/Software Engineer</td>\n",
       "      <td>32.833622</td>\n",
       "    </tr>\n",
       "    <tr>\n",
       "      <th>4</th>\n",
       "      <td>Data Miner</td>\n",
       "      <td>32.991304</td>\n",
       "    </tr>\n",
       "  </tbody>\n",
       "</table>\n",
       "</div>"
      ],
      "text/plain": [
       "                  CurrentJobTitleSelect        Age\n",
       "0             Machine Learning Engineer  31.130933\n",
       "1                          Data Analyst  31.555742\n",
       "2                            Programmer  31.735099\n",
       "3  Software Developer/Software Engineer  32.833622\n",
       "4                            Data Miner  32.991304"
      ]
     },
     "execution_count": 101,
     "metadata": {},
     "output_type": "execute_result"
    }
   ],
   "source": [
    "title_age_df.head()"
   ]
  },
  {
   "cell_type": "code",
   "execution_count": 102,
   "metadata": {},
   "outputs": [
    {
     "data": {
      "text/plain": [
       "<matplotlib.axes._subplots.AxesSubplot at 0x1297add2c48>"
      ]
     },
     "execution_count": 102,
     "metadata": {},
     "output_type": "execute_result"
    },
    {
     "data": {
      "image/png": "[encoded data removed]",
      "text/plain": [
       "<Figure size 432x288 with 1 Axes>"
      ]
     },
     "metadata": {
      "needs_background": "light"
     },
     "output_type": "display_data"
    }
   ],
   "source": [
    "sns.scatterplot(x=\"Age\", y=\"CurrentJobTitleSelect\", data=title_age_df)"
   ]
  },
  {
   "cell_type": "markdown",
   "metadata": {},
   "source": [
    "### 2. Manipulating Categorical columns"
   ]
  },
  {
   "cell_type": "markdown",
   "metadata": {},
   "source": [
    "#### Exercise 2.1\n",
    "\n",
    "Change order of levels in plots - useful in ordinal column case"
   ]
  },
  {
   "cell_type": "code",
   "execution_count": 105,
   "metadata": {},
   "outputs": [
    {
     "data": {
      "text/plain": [
       "<matplotlib.axes._subplots.AxesSubplot at 0x1297aea2a08>"
      ]
     },
     "execution_count": 105,
     "metadata": {},
     "output_type": "execute_result"
    },
    {
     "data": {
      "image/png": "[encoded data removed]",
      "text/plain": [
       "<Figure size 432x288 with 1 Axes>"
      ]
     },
     "metadata": {
      "needs_background": "light"
     },
     "output_type": "display_data"
    }
   ],
   "source": [
    "sns.countplot(y=\"WorkInternalVsExternalTools\", data=multi_choice_cat_df)"
   ]
  },
  {
   "cell_type": "markdown",
   "metadata": {},
   "source": [
    "Note that `nan` are not plotted in a countplot."
   ]
  },
  {
   "cell_type": "markdown",
   "metadata": {},
   "source": [
    "Suppose you want the order of the plot to be \"Entirely internal\", \"More internal than external\",\"Approximately half internal and half external\", \"More external than internal\", \"Entirely external\", \"Do not know\".\n",
    "\n",
    "Specify the order in the order argument:"
   ]
  },
  {
   "cell_type": "code",
   "execution_count": 107,
   "metadata": {},
   "outputs": [
    {
     "data": {
      "text/plain": [
       "<matplotlib.axes._subplots.AxesSubplot at 0x1297af659c8>"
      ]
     },
     "execution_count": 107,
     "metadata": {},
     "output_type": "execute_result"
    },
    {
     "data": {
      "image/png": "[encoded data removed]",
      "text/plain": [
       "<Figure size 432x288 with 1 Axes>"
      ]
     },
     "metadata": {
      "needs_background": "light"
     },
     "output_type": "display_data"
    }
   ],
   "source": [
    "order_list = [\"Entirely internal\", \"More internal than external\",\"Approximately half internal and half external\", \"More external than internal\", \"Entirely external\", \"Do not know\"]\n",
    "sns.countplot(y=\"WorkInternalVsExternalTools\", data=multi_choice_cat_df,order=order_list)"
   ]
  },
  {
   "cell_type": "markdown",
   "metadata": {},
   "source": [
    "But what do we do when there are many levels in categorical column? We can't write all the levels explicitly. Let's explore this `FormalEducation` column.\n",
    "\n",
    "Note that in order to consider `nan` in the countplot, we'll have to replace it with a string."
   ]
  },
  {
   "cell_type": "code",
   "execution_count": 115,
   "metadata": {},
   "outputs": [
    {
     "name": "stderr",
     "output_type": "stream",
     "text": [
      "C:\\Users\\manishpathak\\AppData\\Local\\Continuum\\anaconda3\\lib\\site-packages\\pandas\\core\\generic.py:6245: SettingWithCopyWarning: \n",
      "A value is trying to be set on a copy of a slice from a DataFrame\n",
      "\n",
      "See the caveats in the documentation: https://pandas.pydata.org/pandas-docs/stable/user_guide/indexing.html#returning-a-view-versus-a-copy\n",
      "  self._update_inplace(new_data)\n"
     ]
    }
   ],
   "source": [
    "## Replace nan with string 'Missing'\n",
    "multi_choice_cat_df['FormalEducation'].fillna('Missing', inplace=True)"
   ]
  },
  {
   "cell_type": "code",
   "execution_count": 118,
   "metadata": {},
   "outputs": [
    {
     "data": {
      "text/plain": [
       "['I prefer not to answer',\n",
       " \"Some college/university study without earning a bachelor's degree\",\n",
       " 'I did not complete any formal education past high school',\n",
       " \"Bachelor's degree\",\n",
       " 'Missing',\n",
       " 'Doctoral degree',\n",
       " 'Professional degree',\n",
       " \"Master's degree\"]"
      ]
     },
     "execution_count": 118,
     "metadata": {},
     "output_type": "execute_result"
    }
   ],
   "source": [
    "#Get unique level from the categorical column\n",
    "education_levels = list(set(multi_choice_cat_df['FormalEducation']))\n",
    "education_levels"
   ]
  },
  {
   "cell_type": "markdown",
   "metadata": {},
   "source": [
    "Move `\"I did not complete any formal education past high school\"` and `\"Some college/university study without earning a bachelor's degree\"` to the front. Move `Missing` to last."
   ]
  },
  {
   "cell_type": "code",
   "execution_count": 119,
   "metadata": {},
   "outputs": [],
   "source": [
    "# Use insert-pop to move elements in a list at a particular index\n",
    "education_levels.insert(0, education_levels.pop(education_levels.index(\"I did not complete any formal education past high school\")))\n",
    "education_levels.insert(1, education_levels.pop(education_levels.index(\"Some college/university study without earning a bachelor's degree\")))\n",
    "education_levels.insert(len(education_levels)-1, education_levels.pop(education_levels.index(\"Missing\")))"
   ]
  },
  {
   "cell_type": "code",
   "execution_count": 120,
   "metadata": {},
   "outputs": [
    {
     "data": {
      "text/plain": [
       "['I did not complete any formal education past high school',\n",
       " \"Some college/university study without earning a bachelor's degree\",\n",
       " 'I prefer not to answer',\n",
       " \"Bachelor's degree\",\n",
       " 'Doctoral degree',\n",
       " 'Professional degree',\n",
       " \"Master's degree\",\n",
       " 'Missing']"
      ]
     },
     "execution_count": 120,
     "metadata": {},
     "output_type": "execute_result"
    }
   ],
   "source": [
    "education_levels"
   ]
  },
  {
   "cell_type": "markdown",
   "metadata": {},
   "source": [
    "Now we can pass the `education_levels` list in the `order` argument."
   ]
  },
  {
   "cell_type": "code",
   "execution_count": 121,
   "metadata": {},
   "outputs": [
    {
     "data": {
      "text/plain": [
       "<matplotlib.axes._subplots.AxesSubplot at 0x1297707e408>"
      ]
     },
     "execution_count": 121,
     "metadata": {},
     "output_type": "execute_result"
    },
    {
     "data": {
      "image/png": "[encoded data removed]",
      "text/plain": [
       "<Figure size 432x288 with 1 Axes>"
      ]
     },
     "metadata": {
      "needs_background": "light"
     },
     "output_type": "display_data"
    }
   ],
   "source": [
    "sns.countplot(y=\"FormalEducation\", data=multi_choice_cat_df,order=education_levels)"
   ]
  },
  {
   "cell_type": "markdown",
   "metadata": {},
   "source": [
    "#### Exercise 2.2\n",
    "\n",
    "##### Renaming Categorical column's levels\n",
    "Let's read the FiveThirtyEight Survey Data for this exercise"
   ]
  },
  {
   "cell_type": "code",
   "execution_count": 153,
   "metadata": {},
   "outputs": [
    {
     "data": {
      "text/html": [
       "<div>\n",
       "<style scoped>\n",
       "    .dataframe tbody tr th:only-of-type {\n",
       "        vertical-align: middle;\n",
       "    }\n",
       "\n",
       "    .dataframe tbody tr th {\n",
       "        vertical-align: top;\n",
       "    }\n",
       "\n",
       "    .dataframe thead th {\n",
       "        text-align: right;\n",
       "    }\n",
       "</style>\n",
       "<table border=\"1\" class=\"dataframe\">\n",
       "  <thead>\n",
       "    <tr style=\"text-align: right;\">\n",
       "      <th></th>\n",
       "      <th>RespondentID</th>\n",
       "      <th>How often do you travel by plane?</th>\n",
       "      <th>Do you ever recline your seat when you fly?</th>\n",
       "      <th>How tall are you?</th>\n",
       "      <th>Do you have any children under 18?</th>\n",
       "      <th>In a row of three seats, who should get to use the two arm rests?</th>\n",
       "      <th>In a row of two seats, who should get to use the middle arm rest?</th>\n",
       "      <th>Who should have control over the window shade?</th>\n",
       "      <th>Is itrude to move to an unsold seat on a plane?</th>\n",
       "      <th>Generally speaking, is it rude to say more than a few words tothe stranger sitting next to you on a plane?</th>\n",
       "      <th>...</th>\n",
       "      <th>Is itrude to wake a passenger up if you are trying to walk around?</th>\n",
       "      <th>In general, is itrude to bring a baby on a plane?</th>\n",
       "      <th>In general, is it rude to knowingly bring unruly children on a plane?</th>\n",
       "      <th>Have you ever used personal electronics during take off or landing in violation of a flight attendant's direction?</th>\n",
       "      <th>Have you ever smoked a cigarette in an airplane bathroom when it was against the rules?</th>\n",
       "      <th>Gender</th>\n",
       "      <th>Age</th>\n",
       "      <th>Household Income</th>\n",
       "      <th>Education</th>\n",
       "      <th>Location (Census Region)</th>\n",
       "    </tr>\n",
       "  </thead>\n",
       "  <tbody>\n",
       "    <tr>\n",
       "      <th>0</th>\n",
       "      <td>3436139758</td>\n",
       "      <td>Once a year or less</td>\n",
       "      <td>NaN</td>\n",
       "      <td>NaN</td>\n",
       "      <td>NaN</td>\n",
       "      <td>NaN</td>\n",
       "      <td>NaN</td>\n",
       "      <td>NaN</td>\n",
       "      <td>NaN</td>\n",
       "      <td>NaN</td>\n",
       "      <td>...</td>\n",
       "      <td>NaN</td>\n",
       "      <td>NaN</td>\n",
       "      <td>NaN</td>\n",
       "      <td>NaN</td>\n",
       "      <td>NaN</td>\n",
       "      <td>NaN</td>\n",
       "      <td>NaN</td>\n",
       "      <td>NaN</td>\n",
       "      <td>NaN</td>\n",
       "      <td>NaN</td>\n",
       "    </tr>\n",
       "    <tr>\n",
       "      <th>1</th>\n",
       "      <td>3434278696</td>\n",
       "      <td>Once a year or less</td>\n",
       "      <td>About half the time</td>\n",
       "      <td>6'3\"</td>\n",
       "      <td>Yes</td>\n",
       "      <td>The arm rests should be shared</td>\n",
       "      <td>The arm rests should be shared</td>\n",
       "      <td>Everyone in the row should have some say</td>\n",
       "      <td>No, not rude at all</td>\n",
       "      <td>No, not at all rude</td>\n",
       "      <td>...</td>\n",
       "      <td>No, not at all rude</td>\n",
       "      <td>No, not at all rude</td>\n",
       "      <td>No, not at all rude</td>\n",
       "      <td>No</td>\n",
       "      <td>No</td>\n",
       "      <td>Male</td>\n",
       "      <td>30-44</td>\n",
       "      <td>NaN</td>\n",
       "      <td>Graduate degree</td>\n",
       "      <td>Pacific</td>\n",
       "    </tr>\n",
       "  </tbody>\n",
       "</table>\n",
       "<p>2 rows × 27 columns</p>\n",
       "</div>"
      ],
      "text/plain": [
       "   RespondentID How often do you travel by plane?  \\\n",
       "0    3436139758               Once a year or less   \n",
       "1    3434278696               Once a year or less   \n",
       "\n",
       "  Do you ever recline your seat when you fly? How tall are you?  \\\n",
       "0                                         NaN               NaN   \n",
       "1                         About half the time              6'3\"   \n",
       "\n",
       "  Do you have any children under 18?  \\\n",
       "0                                NaN   \n",
       "1                                Yes   \n",
       "\n",
       "  In a row of three seats, who should get to use the two arm rests?  \\\n",
       "0                                                NaN                  \n",
       "1                     The arm rests should be shared                  \n",
       "\n",
       "  In a row of two seats, who should get to use the middle arm rest?  \\\n",
       "0                                                NaN                  \n",
       "1                     The arm rests should be shared                  \n",
       "\n",
       "  Who should have control over the window shade?  \\\n",
       "0                                            NaN   \n",
       "1       Everyone in the row should have some say   \n",
       "\n",
       "  Is itrude to move to an unsold seat on a plane?  \\\n",
       "0                                             NaN   \n",
       "1                             No, not rude at all   \n",
       "\n",
       "  Generally speaking, is it rude to say more than a few words tothe stranger sitting next to you on a plane?  \\\n",
       "0                                                NaN                                                           \n",
       "1                                No, not at all rude                                                           \n",
       "\n",
       "   ... Is itrude to wake a passenger up if you are trying to walk around?  \\\n",
       "0  ...                                                NaN                   \n",
       "1  ...                                No, not at all rude                   \n",
       "\n",
       "  In general, is itrude to bring a baby on a plane?  \\\n",
       "0                                               NaN   \n",
       "1                               No, not at all rude   \n",
       "\n",
       "  In general, is it rude to knowingly bring unruly children on a plane?  \\\n",
       "0                                                NaN                      \n",
       "1                                No, not at all rude                      \n",
       "\n",
       "  Have you ever used personal electronics during take off or landing in violation of a flight attendant's direction?  \\\n",
       "0                                                NaN                                                                   \n",
       "1                                                 No                                                                   \n",
       "\n",
       "  Have you ever smoked a cigarette in an airplane bathroom when it was against the rules?  \\\n",
       "0                                                NaN                                        \n",
       "1                                                 No                                        \n",
       "\n",
       "  Gender    Age Household Income        Education Location (Census Region)  \n",
       "0    NaN    NaN              NaN              NaN                      NaN  \n",
       "1   Male  30-44              NaN  Graduate degree                  Pacific  \n",
       "\n",
       "[2 rows x 27 columns]"
      ]
     },
     "execution_count": 153,
     "metadata": {},
     "output_type": "execute_result"
    }
   ],
   "source": [
    "flight_survey_df = pd.read_csv('D:/Books and Resources/Courses/Categorical Data TidyVerse/fivethirtyeight_flight/datasets_56612_396603_flying-etiquette.csv')\n",
    "flight_survey_df.head(2)"
   ]
  },
  {
   "cell_type": "code",
   "execution_count": 155,
   "metadata": {},
   "outputs": [],
   "source": [
    "## Let's rename the column 'In a row of three seats, who should get to use the two arm rests?' to 'middle_arm_rest_three'\n",
    "flight_survey_df.rename(columns={'In a row of three seats, who should get to use the two arm rests?': 'middle_arm_rest_three'},inplace=True)"
   ]
  },
  {
   "cell_type": "code",
   "execution_count": 156,
   "metadata": {},
   "outputs": [
    {
     "data": {
      "text/plain": [
       "array([nan, 'The arm rests should be shared',\n",
       "       'Whoever puts their arm on the arm rest first',\n",
       "       'The person in the middle seat gets both arm rests',\n",
       "       'Other (please specify)',\n",
       "       'The people in the aisle and window seats get both arm rests'],\n",
       "      dtype=object)"
      ]
     },
     "execution_count": 156,
     "metadata": {},
     "output_type": "execute_result"
    }
   ],
   "source": [
    "flight_survey_df['middle_arm_rest_three'].unique()"
   ]
  },
  {
   "cell_type": "markdown",
   "metadata": {},
   "source": [
    "Let's plot the `middle_arm_rest_three` column"
   ]
  },
  {
   "cell_type": "code",
   "execution_count": 157,
   "metadata": {},
   "outputs": [
    {
     "data": {
      "text/plain": [
       "The arm rests should be shared                                 587\n",
       "The person in the middle seat gets both arm rests              119\n",
       "Whoever puts their arm on the arm rest first                    87\n",
       "Other (please specify)                                          45\n",
       "The people in the aisle and window seats get both arm rests     18\n",
       "Name: middle_arm_rest_three, dtype: int64"
      ]
     },
     "execution_count": 157,
     "metadata": {},
     "output_type": "execute_result"
    }
   ],
   "source": [
    "#Get Frequency count of each level\n",
    "flight_survey_df['middle_arm_rest_three'].value_counts()"
   ]
  },
  {
   "cell_type": "code",
   "execution_count": 158,
   "metadata": {},
   "outputs": [
    {
     "data": {
      "text/plain": [
       "<matplotlib.axes._subplots.AxesSubplot at 0x1297b3a2b48>"
      ]
     },
     "execution_count": 158,
     "metadata": {},
     "output_type": "execute_result"
    },
    {
     "data": {
      "image/png": "[encoded data removed]",
      "text/plain": [
       "<Figure size 432x288 with 1 Axes>"
      ]
     },
     "metadata": {
      "needs_background": "light"
     },
     "output_type": "display_data"
    }
   ],
   "source": [
    "sns.countplot(x=\"middle_arm_rest_three\", data=flight_survey_df)"
   ]
  },
  {
   "cell_type": "markdown",
   "metadata": {},
   "source": [
    "The `xlabels` are all cluttered, let's flip the bar plot to horizontal."
   ]
  },
  {
   "cell_type": "code",
   "execution_count": 159,
   "metadata": {},
   "outputs": [
    {
     "data": {
      "text/plain": [
       "<matplotlib.axes._subplots.AxesSubplot at 0x1297b3fe8c8>"
      ]
     },
     "execution_count": 159,
     "metadata": {},
     "output_type": "execute_result"
    },
    {
     "data": {
      "image/png": "[encoded data removed]",
      "text/plain": [
       "<Figure size 432x288 with 1 Axes>"
      ]
     },
     "metadata": {
      "needs_background": "light"
     },
     "output_type": "display_data"
    }
   ],
   "source": [
    "sns.countplot(y=\"middle_arm_rest_three\", data=flight_survey_df)"
   ]
  },
  {
   "cell_type": "markdown",
   "metadata": {},
   "source": [
    "We can also rename the long-named categories to a shorter named category such that they convey the same meaning"
   ]
  },
  {
   "cell_type": "code",
   "execution_count": 161,
   "metadata": {},
   "outputs": [],
   "source": [
    "flight_survey_df['middle_arm_rest_three'].replace({'Other (please specify)': 'Other', \n",
    "                                    'The arm rests should be shared': 'Everyone should share',\n",
    "                                   'The people in the aisle and window seats get both arm rests':'Aisle and window people',\n",
    "                                   'The person in the middle seat gets both arm rests':'Middle person',\n",
    "                                   'Whoever puts their arm on the arm rest first':'Fastest person'},inplace=True)"
   ]
  },
  {
   "cell_type": "code",
   "execution_count": 162,
   "metadata": {},
   "outputs": [
    {
     "data": {
      "text/plain": [
       "array([nan, 'Everyone should share', 'Fastest person', 'Middle person',\n",
       "       'Other', 'Aisle and window people'], dtype=object)"
      ]
     },
     "execution_count": 162,
     "metadata": {},
     "output_type": "execute_result"
    }
   ],
   "source": [
    "flight_survey_df['middle_arm_rest_three'].unique()"
   ]
  },
  {
   "cell_type": "markdown",
   "metadata": {},
   "source": [
    "Let's plot the vertical bar chart, but rotate the `xlabels` by 40 degrees so that they dont overlap. You can also change the plot size using `figsize`"
   ]
  },
  {
   "cell_type": "code",
   "execution_count": 172,
   "metadata": {},
   "outputs": [
    {
     "data": {
      "image/png": "[encoded data removed]",
      "text/plain": [
       "<Figure size 360x432 with 1 Axes>"
      ]
     },
     "metadata": {
      "needs_background": "light"
     },
     "output_type": "display_data"
    }
   ],
   "source": [
    "plt.figure(figsize=(5,6))\n",
    "ax = sns.countplot(x=\"middle_arm_rest_three\", data=flight_survey_df)\n",
    "ax.set_xticklabels(ax.get_xticklabels(), rotation=40, ha=\"right\")\n",
    "plt.tight_layout()\n",
    "plt.show()"
   ]
  },
  {
   "cell_type": "markdown",
   "metadata": {},
   "source": [
    "Nice work cleaning up the graph! Presentation in data science is very important - the easier it is for people to understand your graph, the more effective it will be.\n",
    "\n",
    "Beware about the spellings of the level you are changing in the above exercise, otherwise the replacement won't happen! Also, you don't have to rename every level."
   ]
  },
  {
   "cell_type": "markdown",
   "metadata": {},
   "source": [
    "#### Exercise 2.3\n",
    "We can represent the frequency/percent-distribution using a pie chart as well for a better data-story telling."
   ]
  },
  {
   "cell_type": "code",
   "execution_count": 173,
   "metadata": {},
   "outputs": [
    {
     "data": {
      "image/png": "[encoded data removed]",
      "text/plain": [
       "<Figure size 432x288 with 1 Axes>"
      ]
     },
     "metadata": {},
     "output_type": "display_data"
    }
   ],
   "source": [
    "labels = flight_survey_df['middle_arm_rest_three'].astype('category').cat.categories.tolist() #Get the levels\n",
    "counts = flight_survey_df['middle_arm_rest_three'].value_counts() #Get frequency chart\n",
    "sizes = [counts[var_cat] for var_cat in labels]\n",
    "fig1, ax1 = plt.subplots()\n",
    "ax1.pie(sizes, labels=labels, autopct='%1.1f%%', shadow=True) #autopct is to show the % on plot\n",
    "ax1.axis('equal')\n",
    "plt.show()"
   ]
  },
  {
   "cell_type": "markdown",
   "metadata": {},
   "source": [
    "#### Exercise 2.4\n",
    "\n",
    "Collapsing your levels - useful when too many level which cant be plotted neatly. For examples in the Flights data there is column named `How tall are you?` which has too many levels. Let's see how we can treat such cases."
   ]
  },
  {
   "cell_type": "code",
   "execution_count": 203,
   "metadata": {},
   "outputs": [
    {
     "data": {
      "text/plain": [
       "5'4\"              0.092075\n",
       "5'8\"              0.088578\n",
       "5'7\"              0.088578\n",
       "5'6\"              0.087413\n",
       "5'9\"              0.083916\n",
       "5'5\"              0.082751\n",
       "5'10\"             0.078089\n",
       "6'0\"              0.066434\n",
       "5'11\"             0.062937\n",
       "5'3\"              0.055944\n",
       "5'2\"              0.052448\n",
       "6'2\"              0.031469\n",
       "6'1\"              0.030303\n",
       "5'1\"              0.022145\n",
       "6'3\"              0.020979\n",
       "5'0\"              0.019814\n",
       "Under 5 ft.       0.013986\n",
       "6'4\"              0.012821\n",
       "6'5\"              0.006993\n",
       "6'6\" and above    0.002331\n",
       "Name: Height, dtype: float64"
      ]
     },
     "execution_count": 203,
     "metadata": {},
     "output_type": "execute_result"
    }
   ],
   "source": [
    "flight_survey_df.rename(columns={'How tall are you?': 'Height'},inplace=True) #rename the column to height\n",
    "flight_survey_df['Height'].value_counts(normalize=True) #No NaN"
   ]
  },
  {
   "cell_type": "code",
   "execution_count": 204,
   "metadata": {},
   "outputs": [
    {
     "name": "stderr",
     "output_type": "stream",
     "text": [
      "C:\\Users\\manishpathak\\AppData\\Local\\Continuum\\anaconda3\\lib\\site-packages\\ipykernel_launcher.py:3: SettingWithCopyWarning: \n",
      "A value is trying to be set on a copy of a slice from a DataFrame.\n",
      "Try using .loc[row_indexer,col_indexer] = value instead\n",
      "\n",
      "See the caveats in the documentation: https://pandas.pydata.org/pandas-docs/stable/user_guide/indexing.html#returning-a-view-versus-a-copy\n",
      "  This is separate from the ipykernel package so we can avoid doing imports until\n"
     ]
    }
   ],
   "source": [
    "flights_height_df = flight_survey_df[['Height']] # create a new df which has only heights - for demonstrations\n",
    "levels_to_merge = ['Under 5 ft.','5\\'1\"','5\\'2\"','5\\'3\"','5\\'4\"','5\\'5\"'] #level that we want to merge\n",
    "flights_height_df['Merged_Height'] = np.where( flights_height_df['Height'].isin(levels_to_merge), '\"Under 5\\`5\"',flights_height_df['Height']) "
   ]
  },
  {
   "cell_type": "code",
   "execution_count": 206,
   "metadata": {},
   "outputs": [
    {
     "data": {
      "text/plain": [
       "\"Under 5\\`5\"      0.319347\n",
       "5'8\"              0.088578\n",
       "5'7\"              0.088578\n",
       "5'6\"              0.087413\n",
       "5'9\"              0.083916\n",
       "5'10\"             0.078089\n",
       "6'0\"              0.066434\n",
       "5'11\"             0.062937\n",
       "6'2\"              0.031469\n",
       "6'1\"              0.030303\n",
       "6'3\"              0.020979\n",
       "5'0\"              0.019814\n",
       "6'4\"              0.012821\n",
       "6'5\"              0.006993\n",
       "6'6\" and above    0.002331\n",
       "Name: Merged_Height, dtype: float64"
      ]
     },
     "execution_count": 206,
     "metadata": {},
     "output_type": "execute_result"
    }
   ],
   "source": [
    "flights_height_df['Merged_Height'].value_counts(normalize=True)"
   ]
  },
  {
   "cell_type": "markdown",
   "metadata": {},
   "source": [
    "Feel free to visualize the new clubbed heights now! \n",
    "\n",
    "Or we can also keep the top n most occuring heights based on their frequency proportion and club the rest into new category `Other`"
   ]
  },
  {
   "cell_type": "code",
   "execution_count": 211,
   "metadata": {},
   "outputs": [
    {
     "name": "stderr",
     "output_type": "stream",
     "text": [
      "C:\\Users\\manishpathak\\AppData\\Local\\Continuum\\anaconda3\\lib\\site-packages\\ipykernel_launcher.py:7: SettingWithCopyWarning: \n",
      "A value is trying to be set on a copy of a slice from a DataFrame.\n",
      "Try using .loc[row_indexer,col_indexer] = value instead\n",
      "\n",
      "See the caveats in the documentation: https://pandas.pydata.org/pandas-docs/stable/user_guide/indexing.html#returning-a-view-versus-a-copy\n",
      "  import sys\n"
     ]
    }
   ],
   "source": [
    "height_frequencies_prop = flights_height_df['Height'].value_counts(normalize=True)\n",
    "\n",
    "condition = height_frequencies_prop< 0.06   # you can define it however you want\n",
    "mask_obs = height_frequencies_prop[condition].index\n",
    "mask_dict = dict.fromkeys(mask_obs, 'Other')\n",
    "\n",
    "flights_height_df['prop_height'] = flights_height_df['Height'].replace(mask_dict) "
   ]
  },
  {
   "cell_type": "code",
   "execution_count": 213,
   "metadata": {},
   "outputs": [
    {
     "data": {
      "text/plain": [
       "Other    0.269231\n",
       "5'4\"     0.092075\n",
       "5'8\"     0.088578\n",
       "5'7\"     0.088578\n",
       "5'6\"     0.087413\n",
       "5'9\"     0.083916\n",
       "5'5\"     0.082751\n",
       "5'10\"    0.078089\n",
       "6'0\"     0.066434\n",
       "5'11\"    0.062937\n",
       "Name: prop_height, dtype: float64"
      ]
     },
     "execution_count": 213,
     "metadata": {},
     "output_type": "execute_result"
    }
   ],
   "source": [
    "flights_height_df['prop_height'].value_counts(normalize=True)"
   ]
  },
  {
   "cell_type": "markdown",
   "metadata": {},
   "source": [
    "The same concept can be extended to retain top n levels and club everything else in `Other` category."
   ]
  },
  {
   "cell_type": "code",
   "execution_count": 230,
   "metadata": {},
   "outputs": [
    {
     "name": "stderr",
     "output_type": "stream",
     "text": [
      "C:\\Users\\manishpathak\\AppData\\Local\\Continuum\\anaconda3\\lib\\site-packages\\ipykernel_launcher.py:5: SettingWithCopyWarning: \n",
      "A value is trying to be set on a copy of a slice from a DataFrame.\n",
      "Try using .loc[row_indexer,col_indexer] = value instead\n",
      "\n",
      "See the caveats in the documentation: https://pandas.pydata.org/pandas-docs/stable/user_guide/indexing.html#returning-a-view-versus-a-copy\n",
      "  \"\"\"\n"
     ]
    }
   ],
   "source": [
    "top_n = 3\n",
    "height_freq = flights_height_df['Height'].value_counts()\n",
    "mask_obs = height_freq.iloc[top_n:].index\n",
    "mask_dict = dict.fromkeys(mask_obs, 'Other')\n",
    "flights_height_df['top_height'] = flights_height_df['Height'].replace(mask_dict) "
   ]
  },
  {
   "cell_type": "code",
   "execution_count": 231,
   "metadata": {},
   "outputs": [
    {
     "data": {
      "text/plain": [
       "Other    627\n",
       "5'4\"      79\n",
       "5'8\"      76\n",
       "5'7\"      76\n",
       "Name: top_height, dtype: int64"
      ]
     },
     "execution_count": 231,
     "metadata": {},
     "output_type": "execute_result"
    }
   ],
   "source": [
    "flights_height_df['top_height'].value_counts()"
   ]
  },
  {
   "cell_type": "markdown",
   "metadata": {},
   "source": [
    "### 3.Creating Factor Variables"
   ]
  },
  {
   "cell_type": "markdown",
   "metadata": {},
   "source": [
    "#### Tidying Data ; Examining common themed-variables"
   ]
  },
  {
   "cell_type": "markdown",
   "metadata": {},
   "source": [
    "Let's go back to the MCQ dataset. Let's print out the first few rows of `WorkChallengeFrequencyExplaining` and `WorkChallengeFrequencyIntegration` columns."
   ]
  },
  {
   "cell_type": "code",
   "execution_count": 232,
   "metadata": {},
   "outputs": [
    {
     "data": {
      "text/html": [
       "<div>\n",
       "<style scoped>\n",
       "    .dataframe tbody tr th:only-of-type {\n",
       "        vertical-align: middle;\n",
       "    }\n",
       "\n",
       "    .dataframe tbody tr th {\n",
       "        vertical-align: top;\n",
       "    }\n",
       "\n",
       "    .dataframe thead th {\n",
       "        text-align: right;\n",
       "    }\n",
       "</style>\n",
       "<table border=\"1\" class=\"dataframe\">\n",
       "  <thead>\n",
       "    <tr style=\"text-align: right;\">\n",
       "      <th></th>\n",
       "      <th>WorkChallengeFrequencyExplaining</th>\n",
       "      <th>WorkChallengeFrequencyIntegration</th>\n",
       "    </tr>\n",
       "  </thead>\n",
       "  <tbody>\n",
       "    <tr>\n",
       "      <th>0</th>\n",
       "      <td>NaN</td>\n",
       "      <td>NaN</td>\n",
       "    </tr>\n",
       "    <tr>\n",
       "      <th>1</th>\n",
       "      <td>NaN</td>\n",
       "      <td>NaN</td>\n",
       "    </tr>\n",
       "    <tr>\n",
       "      <th>2</th>\n",
       "      <td>NaN</td>\n",
       "      <td>NaN</td>\n",
       "    </tr>\n",
       "    <tr>\n",
       "      <th>3</th>\n",
       "      <td>Often</td>\n",
       "      <td>Often</td>\n",
       "    </tr>\n",
       "    <tr>\n",
       "      <th>4</th>\n",
       "      <td>NaN</td>\n",
       "      <td>NaN</td>\n",
       "    </tr>\n",
       "  </tbody>\n",
       "</table>\n",
       "</div>"
      ],
      "text/plain": [
       "  WorkChallengeFrequencyExplaining WorkChallengeFrequencyIntegration\n",
       "0                              NaN                               NaN\n",
       "1                              NaN                               NaN\n",
       "2                              NaN                               NaN\n",
       "3                            Often                             Often\n",
       "4                              NaN                               NaN"
      ]
     },
     "execution_count": 232,
     "metadata": {},
     "output_type": "execute_result"
    }
   ],
   "source": [
    "multi_choice_df[['WorkChallengeFrequencyExplaining','WorkChallengeFrequencyIntegration']].head()"
   ]
  },
  {
   "cell_type": "markdown",
   "metadata": {},
   "source": [
    "We can tidy up the data such that each row is an observation and each column is a variable. We can re-format the data from wide to long. Instead of having each `WorkChallenge` in a separate column, we can have a column called `WorkChallenge` listing all the Work challenges and one more column called `frequency` listing the frequencies like `Often`, `Most of the time` etc., which are the responses.\n",
    "\n",
    "Let's select all the column whose name startswith `WorkChallengeFrequency` and store them in a new dataframe called `work_df`. We will use `str.startswith()` to accomplish this task."
   ]
  },
  {
   "cell_type": "code",
   "execution_count": 234,
   "metadata": {},
   "outputs": [],
   "source": [
    "work_df = multi_choice_df[multi_choice_df.columns[pd.Series(multi_choice_df.columns).str.startswith('WorkChallengeFrequency')]]"
   ]
  },
  {
   "cell_type": "code",
   "execution_count": 235,
   "metadata": {},
   "outputs": [
    {
     "data": {
      "text/html": [
       "<div>\n",
       "<style scoped>\n",
       "    .dataframe tbody tr th:only-of-type {\n",
       "        vertical-align: middle;\n",
       "    }\n",
       "\n",
       "    .dataframe tbody tr th {\n",
       "        vertical-align: top;\n",
       "    }\n",
       "\n",
       "    .dataframe thead th {\n",
       "        text-align: right;\n",
       "    }\n",
       "</style>\n",
       "<table border=\"1\" class=\"dataframe\">\n",
       "  <thead>\n",
       "    <tr style=\"text-align: right;\">\n",
       "      <th></th>\n",
       "      <th>WorkChallengeFrequencyPolitics</th>\n",
       "      <th>WorkChallengeFrequencyUnusedResults</th>\n",
       "      <th>WorkChallengeFrequencyUnusefulInstrumenting</th>\n",
       "      <th>WorkChallengeFrequencyDeployment</th>\n",
       "      <th>WorkChallengeFrequencyDirtyData</th>\n",
       "      <th>WorkChallengeFrequencyExplaining</th>\n",
       "      <th>WorkChallengeFrequencyPass</th>\n",
       "      <th>WorkChallengeFrequencyIntegration</th>\n",
       "      <th>WorkChallengeFrequencyTalent</th>\n",
       "      <th>WorkChallengeFrequencyDataFunds</th>\n",
       "      <th>...</th>\n",
       "      <th>WorkChallengeFrequencyTools</th>\n",
       "      <th>WorkChallengeFrequencyExpectations</th>\n",
       "      <th>WorkChallengeFrequencyITCoordination</th>\n",
       "      <th>WorkChallengeFrequencyHiringFunds</th>\n",
       "      <th>WorkChallengeFrequencyPrivacy</th>\n",
       "      <th>WorkChallengeFrequencyScaling</th>\n",
       "      <th>WorkChallengeFrequencyEnvironments</th>\n",
       "      <th>WorkChallengeFrequencyClarity</th>\n",
       "      <th>WorkChallengeFrequencyDataAccess</th>\n",
       "      <th>WorkChallengeFrequencyOtherSelect</th>\n",
       "    </tr>\n",
       "  </thead>\n",
       "  <tbody>\n",
       "    <tr>\n",
       "      <th>0</th>\n",
       "      <td>Rarely</td>\n",
       "      <td>NaN</td>\n",
       "      <td>NaN</td>\n",
       "      <td>NaN</td>\n",
       "      <td>NaN</td>\n",
       "      <td>NaN</td>\n",
       "      <td>NaN</td>\n",
       "      <td>NaN</td>\n",
       "      <td>NaN</td>\n",
       "      <td>NaN</td>\n",
       "      <td>...</td>\n",
       "      <td>NaN</td>\n",
       "      <td>NaN</td>\n",
       "      <td>NaN</td>\n",
       "      <td>NaN</td>\n",
       "      <td>Often</td>\n",
       "      <td>Most of the time</td>\n",
       "      <td>NaN</td>\n",
       "      <td>NaN</td>\n",
       "      <td>NaN</td>\n",
       "      <td>NaN</td>\n",
       "    </tr>\n",
       "    <tr>\n",
       "      <th>1</th>\n",
       "      <td>NaN</td>\n",
       "      <td>NaN</td>\n",
       "      <td>NaN</td>\n",
       "      <td>NaN</td>\n",
       "      <td>NaN</td>\n",
       "      <td>NaN</td>\n",
       "      <td>NaN</td>\n",
       "      <td>NaN</td>\n",
       "      <td>NaN</td>\n",
       "      <td>NaN</td>\n",
       "      <td>...</td>\n",
       "      <td>NaN</td>\n",
       "      <td>NaN</td>\n",
       "      <td>NaN</td>\n",
       "      <td>NaN</td>\n",
       "      <td>NaN</td>\n",
       "      <td>NaN</td>\n",
       "      <td>NaN</td>\n",
       "      <td>NaN</td>\n",
       "      <td>NaN</td>\n",
       "      <td>NaN</td>\n",
       "    </tr>\n",
       "    <tr>\n",
       "      <th>2</th>\n",
       "      <td>NaN</td>\n",
       "      <td>NaN</td>\n",
       "      <td>NaN</td>\n",
       "      <td>NaN</td>\n",
       "      <td>NaN</td>\n",
       "      <td>NaN</td>\n",
       "      <td>NaN</td>\n",
       "      <td>NaN</td>\n",
       "      <td>NaN</td>\n",
       "      <td>NaN</td>\n",
       "      <td>...</td>\n",
       "      <td>NaN</td>\n",
       "      <td>NaN</td>\n",
       "      <td>NaN</td>\n",
       "      <td>NaN</td>\n",
       "      <td>NaN</td>\n",
       "      <td>NaN</td>\n",
       "      <td>NaN</td>\n",
       "      <td>NaN</td>\n",
       "      <td>NaN</td>\n",
       "      <td>NaN</td>\n",
       "    </tr>\n",
       "    <tr>\n",
       "      <th>3</th>\n",
       "      <td>Often</td>\n",
       "      <td>Often</td>\n",
       "      <td>Often</td>\n",
       "      <td>Often</td>\n",
       "      <td>Often</td>\n",
       "      <td>Often</td>\n",
       "      <td>NaN</td>\n",
       "      <td>Often</td>\n",
       "      <td>Often</td>\n",
       "      <td>Often</td>\n",
       "      <td>...</td>\n",
       "      <td>Often</td>\n",
       "      <td>Often</td>\n",
       "      <td>NaN</td>\n",
       "      <td>Often</td>\n",
       "      <td>Often</td>\n",
       "      <td>Often</td>\n",
       "      <td>Often</td>\n",
       "      <td>Often</td>\n",
       "      <td>Often</td>\n",
       "      <td>NaN</td>\n",
       "    </tr>\n",
       "    <tr>\n",
       "      <th>4</th>\n",
       "      <td>Often</td>\n",
       "      <td>Sometimes</td>\n",
       "      <td>NaN</td>\n",
       "      <td>NaN</td>\n",
       "      <td>NaN</td>\n",
       "      <td>NaN</td>\n",
       "      <td>NaN</td>\n",
       "      <td>NaN</td>\n",
       "      <td>Sometimes</td>\n",
       "      <td>Sometimes</td>\n",
       "      <td>...</td>\n",
       "      <td>NaN</td>\n",
       "      <td>NaN</td>\n",
       "      <td>Sometimes</td>\n",
       "      <td>NaN</td>\n",
       "      <td>Most of the time</td>\n",
       "      <td>NaN</td>\n",
       "      <td>Sometimes</td>\n",
       "      <td>NaN</td>\n",
       "      <td>NaN</td>\n",
       "      <td>NaN</td>\n",
       "    </tr>\n",
       "  </tbody>\n",
       "</table>\n",
       "<p>5 rows × 22 columns</p>\n",
       "</div>"
      ],
      "text/plain": [
       "  WorkChallengeFrequencyPolitics WorkChallengeFrequencyUnusedResults  \\\n",
       "0                         Rarely                                 NaN   \n",
       "1                            NaN                                 NaN   \n",
       "2                            NaN                                 NaN   \n",
       "3                          Often                               Often   \n",
       "4                          Often                           Sometimes   \n",
       "\n",
       "  WorkChallengeFrequencyUnusefulInstrumenting  \\\n",
       "0                                         NaN   \n",
       "1                                         NaN   \n",
       "2                                         NaN   \n",
       "3                                       Often   \n",
       "4                                         NaN   \n",
       "\n",
       "  WorkChallengeFrequencyDeployment WorkChallengeFrequencyDirtyData  \\\n",
       "0                              NaN                             NaN   \n",
       "1                              NaN                             NaN   \n",
       "2                              NaN                             NaN   \n",
       "3                            Often                           Often   \n",
       "4                              NaN                             NaN   \n",
       "\n",
       "  WorkChallengeFrequencyExplaining WorkChallengeFrequencyPass  \\\n",
       "0                              NaN                        NaN   \n",
       "1                              NaN                        NaN   \n",
       "2                              NaN                        NaN   \n",
       "3                            Often                        NaN   \n",
       "4                              NaN                        NaN   \n",
       "\n",
       "  WorkChallengeFrequencyIntegration WorkChallengeFrequencyTalent  \\\n",
       "0                               NaN                          NaN   \n",
       "1                               NaN                          NaN   \n",
       "2                               NaN                          NaN   \n",
       "3                             Often                        Often   \n",
       "4                               NaN                    Sometimes   \n",
       "\n",
       "  WorkChallengeFrequencyDataFunds  ... WorkChallengeFrequencyTools  \\\n",
       "0                             NaN  ...                         NaN   \n",
       "1                             NaN  ...                         NaN   \n",
       "2                             NaN  ...                         NaN   \n",
       "3                           Often  ...                       Often   \n",
       "4                       Sometimes  ...                         NaN   \n",
       "\n",
       "  WorkChallengeFrequencyExpectations WorkChallengeFrequencyITCoordination  \\\n",
       "0                                NaN                                  NaN   \n",
       "1                                NaN                                  NaN   \n",
       "2                                NaN                                  NaN   \n",
       "3                              Often                                  NaN   \n",
       "4                                NaN                            Sometimes   \n",
       "\n",
       "  WorkChallengeFrequencyHiringFunds WorkChallengeFrequencyPrivacy  \\\n",
       "0                               NaN                         Often   \n",
       "1                               NaN                           NaN   \n",
       "2                               NaN                           NaN   \n",
       "3                             Often                         Often   \n",
       "4                               NaN              Most of the time   \n",
       "\n",
       "  WorkChallengeFrequencyScaling WorkChallengeFrequencyEnvironments  \\\n",
       "0              Most of the time                                NaN   \n",
       "1                           NaN                                NaN   \n",
       "2                           NaN                                NaN   \n",
       "3                         Often                              Often   \n",
       "4                           NaN                          Sometimes   \n",
       "\n",
       "  WorkChallengeFrequencyClarity WorkChallengeFrequencyDataAccess  \\\n",
       "0                           NaN                              NaN   \n",
       "1                           NaN                              NaN   \n",
       "2                           NaN                              NaN   \n",
       "3                         Often                            Often   \n",
       "4                           NaN                              NaN   \n",
       "\n",
       "  WorkChallengeFrequencyOtherSelect  \n",
       "0                               NaN  \n",
       "1                               NaN  \n",
       "2                               NaN  \n",
       "3                               NaN  \n",
       "4                               NaN  \n",
       "\n",
       "[5 rows x 22 columns]"
      ]
     },
     "execution_count": 235,
     "metadata": {},
     "output_type": "execute_result"
    }
   ],
   "source": [
    "work_df.head()"
   ]
  },
  {
   "cell_type": "code",
   "execution_count": 286,
   "metadata": {},
   "outputs": [],
   "source": [
    "#Use pandas melt() function to convert from wide to long by pivoting on index of df\n",
    "work_melt_df = work_df.reset_index()\n",
    "work_melt_df = pd.melt(work_melt_df, id_vars='index', value_vars=[col for col in work_melt_df.columns if col!='index'])"
   ]
  },
  {
   "cell_type": "code",
   "execution_count": 287,
   "metadata": {},
   "outputs": [
    {
     "data": {
      "text/html": [
       "<div>\n",
       "<style scoped>\n",
       "    .dataframe tbody tr th:only-of-type {\n",
       "        vertical-align: middle;\n",
       "    }\n",
       "\n",
       "    .dataframe tbody tr th {\n",
       "        vertical-align: top;\n",
       "    }\n",
       "\n",
       "    .dataframe thead th {\n",
       "        text-align: right;\n",
       "    }\n",
       "</style>\n",
       "<table border=\"1\" class=\"dataframe\">\n",
       "  <thead>\n",
       "    <tr style=\"text-align: right;\">\n",
       "      <th></th>\n",
       "      <th>index</th>\n",
       "      <th>variable</th>\n",
       "      <th>value</th>\n",
       "    </tr>\n",
       "  </thead>\n",
       "  <tbody>\n",
       "    <tr>\n",
       "      <th>0</th>\n",
       "      <td>0</td>\n",
       "      <td>WorkChallengeFrequencyPolitics</td>\n",
       "      <td>Rarely</td>\n",
       "    </tr>\n",
       "    <tr>\n",
       "      <th>1</th>\n",
       "      <td>1</td>\n",
       "      <td>WorkChallengeFrequencyPolitics</td>\n",
       "      <td>NaN</td>\n",
       "    </tr>\n",
       "    <tr>\n",
       "      <th>2</th>\n",
       "      <td>2</td>\n",
       "      <td>WorkChallengeFrequencyPolitics</td>\n",
       "      <td>NaN</td>\n",
       "    </tr>\n",
       "    <tr>\n",
       "      <th>3</th>\n",
       "      <td>3</td>\n",
       "      <td>WorkChallengeFrequencyPolitics</td>\n",
       "      <td>Often</td>\n",
       "    </tr>\n",
       "    <tr>\n",
       "      <th>4</th>\n",
       "      <td>4</td>\n",
       "      <td>WorkChallengeFrequencyPolitics</td>\n",
       "      <td>Often</td>\n",
       "    </tr>\n",
       "  </tbody>\n",
       "</table>\n",
       "</div>"
      ],
      "text/plain": [
       "   index                        variable   value\n",
       "0      0  WorkChallengeFrequencyPolitics  Rarely\n",
       "1      1  WorkChallengeFrequencyPolitics     NaN\n",
       "2      2  WorkChallengeFrequencyPolitics     NaN\n",
       "3      3  WorkChallengeFrequencyPolitics   Often\n",
       "4      4  WorkChallengeFrequencyPolitics   Often"
      ]
     },
     "execution_count": 287,
     "metadata": {},
     "output_type": "execute_result"
    }
   ],
   "source": [
    "work_melt_df.head()"
   ]
  },
  {
   "cell_type": "code",
   "execution_count": 288,
   "metadata": {},
   "outputs": [
    {
     "data": {
      "text/html": [
       "<div>\n",
       "<style scoped>\n",
       "    .dataframe tbody tr th:only-of-type {\n",
       "        vertical-align: middle;\n",
       "    }\n",
       "\n",
       "    .dataframe tbody tr th {\n",
       "        vertical-align: top;\n",
       "    }\n",
       "\n",
       "    .dataframe thead th {\n",
       "        text-align: right;\n",
       "    }\n",
       "</style>\n",
       "<table border=\"1\" class=\"dataframe\">\n",
       "  <thead>\n",
       "    <tr style=\"text-align: right;\">\n",
       "      <th></th>\n",
       "      <th>WorkChallenge</th>\n",
       "      <th>Frequency</th>\n",
       "    </tr>\n",
       "  </thead>\n",
       "  <tbody>\n",
       "    <tr>\n",
       "      <th>0</th>\n",
       "      <td>Politics</td>\n",
       "      <td>Rarely</td>\n",
       "    </tr>\n",
       "    <tr>\n",
       "      <th>1</th>\n",
       "      <td>Politics</td>\n",
       "      <td>NaN</td>\n",
       "    </tr>\n",
       "    <tr>\n",
       "      <th>2</th>\n",
       "      <td>Politics</td>\n",
       "      <td>NaN</td>\n",
       "    </tr>\n",
       "    <tr>\n",
       "      <th>3</th>\n",
       "      <td>Politics</td>\n",
       "      <td>Often</td>\n",
       "    </tr>\n",
       "    <tr>\n",
       "      <th>4</th>\n",
       "      <td>Politics</td>\n",
       "      <td>Often</td>\n",
       "    </tr>\n",
       "  </tbody>\n",
       "</table>\n",
       "</div>"
      ],
      "text/plain": [
       "  WorkChallenge Frequency\n",
       "0      Politics    Rarely\n",
       "1      Politics       NaN\n",
       "2      Politics       NaN\n",
       "3      Politics     Often\n",
       "4      Politics     Often"
      ]
     },
     "execution_count": 288,
     "metadata": {},
     "output_type": "execute_result"
    }
   ],
   "source": [
    "#Let's drop the index column and rename the other two columns to appropriate names\n",
    "work_melt_df.drop(['index'],axis=1,inplace=True)\n",
    "work_melt_df.rename(columns={\"variable\": \"WorkChallenge\", \"value\": \"Frequency\"},inplace=True)\n",
    "\n",
    "#Also note that we dont need phrase `WorkChallengeFrequency in each row now since we now have a column named WorkChallenge\n",
    "work_melt_df['WorkChallenge'] = work_melt_df['WorkChallenge'].str.replace('WorkChallengeFrequency', '')\n",
    "work_melt_df.head()"
   ]
  },
  {
   "cell_type": "code",
   "execution_count": 289,
   "metadata": {},
   "outputs": [
    {
     "data": {
      "text/plain": [
       "Often               12714\n",
       "Sometimes            9185\n",
       "Most of the time     8504\n",
       "Rarely               1083\n",
       "Name: Frequency, dtype: int64"
      ]
     },
     "execution_count": 289,
     "metadata": {},
     "output_type": "execute_result"
    }
   ],
   "source": [
    "work_melt_df['Frequency'].value_counts() #No nan"
   ]
  },
  {
   "cell_type": "markdown",
   "metadata": {},
   "source": [
    "Let's calculate some summary statistics to find what work challenges are faced `Often` and `Most of the time`. "
   ]
  },
  {
   "cell_type": "code",
   "execution_count": 290,
   "metadata": {},
   "outputs": [
    {
     "name": "stderr",
     "output_type": "stream",
     "text": [
      "C:\\Users\\manishpathak\\AppData\\Local\\Continuum\\anaconda3\\lib\\site-packages\\ipykernel_launcher.py:4: SettingWithCopyWarning: \n",
      "A value is trying to be set on a copy of a slice from a DataFrame.\n",
      "Try using .loc[row_indexer,col_indexer] = value instead\n",
      "\n",
      "See the caveats in the documentation: https://pandas.pydata.org/pandas-docs/stable/user_guide/indexing.html#returning-a-view-versus-a-copy\n",
      "  after removing the cwd from sys.path.\n"
     ]
    }
   ],
   "source": [
    "#remove rows where Frequency is NaN\n",
    "work_melt_df_nona = work_melt_df[work_melt_df['Frequency'].notnull()]\n",
    "#dichotomize the `Frequency` column by marking 1 whenver it is `Often` or `Most of the time`\n",
    "work_melt_df_nona['FreqProbs'] = np.where((work_melt_df_nona['Frequency']=='Often')|(work_melt_df_nona['Frequency']=='Most of the time') ,1,0)"
   ]
  },
  {
   "cell_type": "code",
   "execution_count": 291,
   "metadata": {},
   "outputs": [
    {
     "data": {
      "text/html": [
       "<div>\n",
       "<style scoped>\n",
       "    .dataframe tbody tr th:only-of-type {\n",
       "        vertical-align: middle;\n",
       "    }\n",
       "\n",
       "    .dataframe tbody tr th {\n",
       "        vertical-align: top;\n",
       "    }\n",
       "\n",
       "    .dataframe thead th {\n",
       "        text-align: right;\n",
       "    }\n",
       "</style>\n",
       "<table border=\"1\" class=\"dataframe\">\n",
       "  <thead>\n",
       "    <tr style=\"text-align: right;\">\n",
       "      <th></th>\n",
       "      <th>WorkChallenge</th>\n",
       "      <th>Frequency</th>\n",
       "      <th>FreqProbs</th>\n",
       "    </tr>\n",
       "  </thead>\n",
       "  <tbody>\n",
       "    <tr>\n",
       "      <th>0</th>\n",
       "      <td>Politics</td>\n",
       "      <td>Rarely</td>\n",
       "      <td>0</td>\n",
       "    </tr>\n",
       "    <tr>\n",
       "      <th>3</th>\n",
       "      <td>Politics</td>\n",
       "      <td>Often</td>\n",
       "      <td>1</td>\n",
       "    </tr>\n",
       "    <tr>\n",
       "      <th>4</th>\n",
       "      <td>Politics</td>\n",
       "      <td>Often</td>\n",
       "      <td>1</td>\n",
       "    </tr>\n",
       "    <tr>\n",
       "      <th>14</th>\n",
       "      <td>Politics</td>\n",
       "      <td>Often</td>\n",
       "      <td>1</td>\n",
       "    </tr>\n",
       "    <tr>\n",
       "      <th>15</th>\n",
       "      <td>Politics</td>\n",
       "      <td>Rarely</td>\n",
       "      <td>0</td>\n",
       "    </tr>\n",
       "  </tbody>\n",
       "</table>\n",
       "</div>"
      ],
      "text/plain": [
       "   WorkChallenge Frequency  FreqProbs\n",
       "0       Politics    Rarely          0\n",
       "3       Politics     Often          1\n",
       "4       Politics     Often          1\n",
       "14      Politics     Often          1\n",
       "15      Politics    Rarely          0"
      ]
     },
     "execution_count": 291,
     "metadata": {},
     "output_type": "execute_result"
    }
   ],
   "source": [
    "work_melt_df_nona.head()"
   ]
  },
  {
   "cell_type": "code",
   "execution_count": 292,
   "metadata": {},
   "outputs": [
    {
     "data": {
      "text/plain": [
       "WorkChallenge\n",
       "Clarity                  0.713630\n",
       "DataAccess               0.704566\n",
       "DataFunds                0.643908\n",
       "Deployment               0.523022\n",
       "DirtyData                0.830470\n",
       "DomainExpertise          0.679688\n",
       "Environments             0.663208\n",
       "Expectations             0.624339\n",
       "Explaining               0.604416\n",
       "HiringFunds              0.730381\n",
       "ITCoordination           0.713430\n",
       "Integration              0.625514\n",
       "ML                       0.606536\n",
       "OtherSelect              0.758123\n",
       "Pass                     0.445755\n",
       "Politics                 0.661194\n",
       "Privacy                  0.609705\n",
       "Scaling                  0.630252\n",
       "Talent                   0.708611\n",
       "Tools                    0.623410\n",
       "UnusedResults            0.594037\n",
       "UnusefulInstrumenting    0.560250\n",
       "Name: FreqProbs, dtype: float64"
      ]
     },
     "execution_count": 292,
     "metadata": {},
     "output_type": "execute_result"
    }
   ],
   "source": [
    "# Frequent problems percentage of different Work Challenges faced.\n",
    "work_melt_df_nona.groupby(['WorkChallenge'])['FreqProbs'].mean()"
   ]
  },
  {
   "cell_type": "code",
   "execution_count": null,
   "metadata": {},
   "outputs": [],
   "source": []
  }
 ],
 "metadata": {
  "kernelspec": {
   "display_name": "Python 3",
   "language": "python",
   "name": "python3"
  },
  "language_info": {
   "codemirror_mode": {
    "name": "ipython",
    "version": 3
   },
   "file_extension": ".py",
   "mimetype": "text/x-python",
   "name": "python",
   "nbconvert_exporter": "python",
   "pygments_lexer": "ipython3",
   "version": "3.7.4"
  }
 },
 "nbformat": 4,
 "nbformat_minor": 2
}
